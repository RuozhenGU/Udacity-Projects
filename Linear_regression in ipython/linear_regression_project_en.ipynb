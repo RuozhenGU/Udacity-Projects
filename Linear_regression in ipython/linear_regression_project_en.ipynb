{
 "cells": [
  {
   "cell_type": "markdown",
   "metadata": {
    "deletable": true,
    "editable": true
   },
   "source": [
    "# 1 Matrix operations\n",
    "\n",
    "## 1.1 Create a 4*4 identity matrix"
   ]
  },
  {
   "cell_type": "code",
   "execution_count": 140,
   "metadata": {
    "collapsed": true,
    "deletable": true,
    "editable": true
   },
   "outputs": [],
   "source": [
    "#This project is designed to get familiar with python list and linear algebra\n",
    "#You cannot use import any library yourself, especially numpy\n",
    "\n",
    "A = [[1,2,3], \n",
    "     [2,3,3], \n",
    "     [1,2,5]]\n",
    "\n",
    "B = [[1,2,3,5], \n",
    "     [2,3,3,5], \n",
    "     [1,2,5,1]]\n",
    "\n",
    "#TODO create a 4*4 identity matrix \n",
    "I = [[1,0,0,0],\n",
    "     [0,1,0,0],\n",
    "     [0,0,1,0],\n",
    "     [0,0,0,1]]"
   ]
  },
  {
   "cell_type": "markdown",
   "metadata": {
    "deletable": true,
    "editable": true
   },
   "source": [
    "## 1.2 get the width and height of a matrix. "
   ]
  },
  {
   "cell_type": "code",
   "execution_count": 141,
   "metadata": {
    "collapsed": false,
    "deletable": true,
    "editable": true
   },
   "outputs": [
    {
     "name": "stdout",
     "output_type": "stream",
     "text": [
      "(4, 4)\n"
     ]
    }
   ],
   "source": [
    "#TODO Get the height and weight of a matrix.\n",
    "\n",
    "def shape(M):\n",
    "    return len(M),len(M[0])\n",
    "print shape(I)"
   ]
  },
  {
   "cell_type": "markdown",
   "metadata": {
    "deletable": true,
    "editable": true
   },
   "source": [
    "## 1.3 round all elements in M to certain decimal points"
   ]
  },
  {
   "cell_type": "code",
   "execution_count": 142,
   "metadata": {
    "collapsed": false,
    "deletable": true,
    "editable": true
   },
   "outputs": [],
   "source": [
    "\n",
    "# TODO in-place operation, no return value\n",
    "# TODO round all elements in M to decPts\n",
    "def matxRound(M, decPts=4):\n",
    "    row, col = shape(M)\n",
    "    for i in range(row):  #loop every row\n",
    "        for j in range(col): #loop each num in that row\n",
    "            M[i][j] = round(M[i][j], decPts)\n",
    "\n",
    "            "
   ]
  },
  {
   "cell_type": "markdown",
   "metadata": {
    "deletable": true,
    "editable": true
   },
   "source": [
    "## 1.4 compute transpose of M"
   ]
  },
  {
   "cell_type": "code",
   "execution_count": 143,
   "metadata": {
    "collapsed": false,
    "deletable": true,
    "editable": true
   },
   "outputs": [],
   "source": [
    "#TODO compute transpose of M\n",
    "def transpose(M):\n",
    "    transpose = []  #create a new matrix\n",
    "    for i in range(len(M[0])):\n",
    "        row = []\n",
    "        for j in range(len(M)):\n",
    "            row.append(M[j][i])\n",
    "        transpose.append(row)\n",
    "    return transpose\n",
    "\n",
    "\n"
   ]
  },
  {
   "cell_type": "markdown",
   "metadata": {
    "deletable": true,
    "editable": true
   },
   "source": [
    "## 1.5 compute AB. return None if the dimensions don't match"
   ]
  },
  {
   "cell_type": "code",
   "execution_count": 177,
   "metadata": {
    "collapsed": false,
    "deletable": true,
    "editable": true
   },
   "outputs": [
    {
     "name": "stdout",
     "output_type": "stream",
     "text": [
      "[[1.1102230246251565e-16], [0.9999999999999999], [2.0]]\n"
     ]
    }
   ],
   "source": [
    "#TODO compute matrix multiplication AB, return None if the dimensions don't match\n",
    "\n",
    "\n",
    "\n",
    "##dot_product(los1, los2) consumes two lists of numbers and return the result of dot_product\n",
    "##   of these two lists\n",
    "## dot_product: listof(num), listof(num) => num\n",
    "## requirements: length of los1 should be equal to the length of los2\n",
    "def dot_product(los1, los2):\n",
    "    length = len(los1)\n",
    "    result = 0\n",
    "    for i in range(length):\n",
    "        result += los1[i] * los2[i]\n",
    "    return result\n",
    "\n",
    "def matxMultiply(A, B):\n",
    "    row1, col1 = shape(A)\n",
    "    row2, col2 = shape(B)\n",
    "    if row2 != col1:\n",
    "        return None\n",
    "    product = []\n",
    "    for i in range(row1):\n",
    "        los1 = A[i]\n",
    "        temp = []\n",
    "        los2 = []\n",
    "        for j in range(col2):\n",
    "            for l in range(row2):\n",
    "                los2.append(B[l][j])\n",
    "            temp.append(dot_product(los1, los2))\n",
    "            los2 = []\n",
    "        product.append(temp)\n",
    "    return product\n",
    "        \n",
    "    \n",
    "x = [[-0.20309477756286268], [-0.26692456479690524], [-0.0851063829787234]]    \n",
    "A2 = [[ 8, -8,  6],\n",
    " [ 5, -5, -8],\n",
    " [-8, -3,  5]]\n",
    "print matxMultiply(A2, x)            \n",
    "            "
   ]
  },
  {
   "cell_type": "markdown",
   "metadata": {
    "deletable": true,
    "editable": true
   },
   "source": [
    "## 1.6 Test your implementation"
   ]
  },
  {
   "cell_type": "code",
   "execution_count": 228,
   "metadata": {
    "collapsed": false,
    "deletable": true,
    "editable": true
   },
   "outputs": [],
   "source": [
    "#TODO test the shape function\n",
    "\n",
    "#TODO test the round function\n",
    "\n",
    "#TODO test the transpose funtion\n",
    "\n",
    "#TODO test the matxMultiply function, when the dimensions don't match\n",
    "\n",
    "#TODO test the matxMultiply function, when the dimensions do match\n",
    "\n",
    "\n",
    "C = [[1,2,3],[4,5,6]]\n",
    "D = [[7,8],[9,10],[11,12]]\n",
    "D_transpose = [[7,9,11],[8,10,12]]\n",
    "C_times_D = [[58,64],[139,154]]\n",
    "\n",
    "E = E_times_E = [[1]]\n",
    "E_round = [[1.0]]\n",
    "E_transpose = [[1]]\n",
    "\n",
    "M = [[3,4,2]]\n",
    "M_transpose = [[3],[4],[2]]\n",
    "N = [[13,9,7,15],[8,7,4,6],[6,4,0,3]]\n",
    "N_transpose = [[13,8,6],[9,7,4],[7,4,0],[15,6,3]]\n",
    "M_times_N = [[83,63,37,75]]\n",
    "\n",
    "K = [[1.2123412341,3.12341234,4.23448],[1,2,3]]\n",
    "K_round = [[1.2123,3.1234,4.2345],[1.0,2.0,3.0]]\n",
    "\n",
    "def test():\n",
    "    assert 2,3 == shape(C) #test function shape\n",
    "    assert 1,1 == shape(E)\n",
    "    assert 1,3 == shape(M)\n",
    "    \n",
    "    matxRound(K)\n",
    "    matxRound(E)\n",
    "    assert K_round == K #test function matxRound\n",
    "    assert E_round == E\n",
    "    \n",
    "    assert D_transpose == transpose(D) #test function transpose\n",
    "    assert E_transpose == transpose(E)\n",
    "    assert M_transpose == transpose(M)\n",
    "    assert N_transpose == transpose(N)\n",
    "    \n",
    "    assert C_times_D == matxMultiply(C,D) #test function matxMultiply\n",
    "    assert E_times_E == matxMultiply(E,E)\n",
    "    assert M_times_N == matxMultiply(M,N)\n",
    "    \n",
    "    assert None == matxMultiply(C,E)   #test case when matrix multiplication condition is not satisfied\n",
    "    \n",
    "test()    "
   ]
  },
  {
   "cell_type": "markdown",
   "metadata": {
    "deletable": true,
    "editable": true
   },
   "source": [
    "# 2 Gaussian Jordan Elimination\n",
    "\n",
    "## 2.1 Compute augmented Matrix \n",
    "\n",
    "$ A = \\begin{bmatrix}\n",
    "    a_{11}    & a_{12} & ... & a_{1n}\\\\\n",
    "    a_{21}    & a_{22} & ... & a_{2n}\\\\\n",
    "    a_{31}    & a_{22} & ... & a_{3n}\\\\\n",
    "    ...    & ... & ... & ...\\\\\n",
    "    a_{n1}    & a_{n2} & ... & a_{nn}\\\\\n",
    "\\end{bmatrix} , b = \\begin{bmatrix}\n",
    "    b_{1}  \\\\\n",
    "    b_{2}  \\\\\n",
    "    b_{3}  \\\\\n",
    "    ...    \\\\\n",
    "    b_{n}  \\\\\n",
    "\\end{bmatrix}$\n",
    "\n",
    "Return $ Ab = \\begin{bmatrix}\n",
    "    a_{11}    & a_{12} & ... & a_{1n} & b_{1}\\\\\n",
    "    a_{21}    & a_{22} & ... & a_{2n} & b_{2}\\\\\n",
    "    a_{31}    & a_{22} & ... & a_{3n} & b_{3}\\\\\n",
    "    ...    & ... & ... & ...& ...\\\\\n",
    "    a_{n1}    & a_{n2} & ... & a_{nn} & b_{n} \\end{bmatrix}$"
   ]
  },
  {
   "cell_type": "code",
   "execution_count": 166,
   "metadata": {
    "collapsed": false,
    "deletable": true,
    "editable": true
   },
   "outputs": [],
   "source": [
    "#TODO construct the augment matrix of matrix A and column vector b, assuming A and b have same number of rows\n",
    "def augmentMatrix(A, b):\n",
    "    aug_matrix = A[:] #shallow copy\n",
    "    \n",
    "    for i in range(len(A)):\n",
    "        aug_matrix[i].append(b[i][0])\n",
    "    return aug_matrix\n",
    "\n",
    "\n",
    "    \n",
    "    "
   ]
  },
  {
   "cell_type": "markdown",
   "metadata": {
    "deletable": true,
    "editable": true
   },
   "source": [
    "## 2.2 Basic row operations\n",
    "- exchange two rows\n",
    "- scale a row\n",
    "- add a scaled row to another"
   ]
  },
  {
   "cell_type": "code",
   "execution_count": 167,
   "metadata": {
    "collapsed": false,
    "deletable": true,
    "editable": true
   },
   "outputs": [],
   "source": [
    "# TODO r1 <---> r2\n",
    "# TODO in-place operation, no return value\n",
    "\n",
    "\n",
    "\n",
    "def swapRows(M, r1, r2):\n",
    "    row = len(M)\n",
    "    \n",
    "    temp = M[r1]\n",
    "    temp2 = M[r2]\n",
    "    M[r1] = temp2\n",
    "    M[r2] = temp\n",
    "\n",
    "\n",
    "\n",
    "# TODO r1 <--- r1 * scale\n",
    "# TODO in-place operation, no return value\n",
    "\n",
    "\n",
    "\n",
    "def scaleRow(M, r, scale):\n",
    "    if scale == 0:\n",
    "        raise ValueError('Division by zero')\n",
    "    row = len(M)\n",
    "    M[r] = [x * scale for x in M[r]] #list abstraction.\n",
    "   \n",
    "\n",
    "\n",
    "# TODO r1 <--- r1 + r2*scale\n",
    "# TODO in-place operation, no return value\n",
    "\n",
    "\n",
    "\n",
    "def addScaledRow(M, r1, r2, scale):\n",
    "    row = len(M)\n",
    "  \n",
    "    M[r1] = [x + y * scale for x,y in zip(M[r1], M[r2])] #list abstraction\n",
    "    \n",
    " "
   ]
  },
  {
   "cell_type": "markdown",
   "metadata": {
    "deletable": true,
    "editable": true
   },
   "source": [
    "## 2.3  Gauss-jordan method to solve Ax = b\n",
    "\n",
    "### Hint：\n",
    "\n",
    "Step 1: Check if A and b have same number of rows\n",
    "Step 2: Construct augmented matrix Ab\n",
    "\n",
    "Step 3: Column by column, transform Ab to reduced row echelon form [wiki link](https://en.wikipedia.org/wiki/Row_echelon_form#Reduced_row_echelon_form)\n",
    "    \n",
    "    for every column of Ab (except the last one)\n",
    "        column c is the current column\n",
    "        Find in column c, at diagnal and under diagnal (row c ~ N) the maximum absolute value\n",
    "        If the maximum absolute value is 0\n",
    "            then A is singular, return None （Prove this proposition in Question 2.4）\n",
    "        else\n",
    "            Apply row operation 1, swap the row of maximum with the row of diagnal element (row c)\n",
    "            Apply row operation 2, scale the diagonal element of column c to 1\n",
    "            Apply row operation 3 mutiple time, eliminate every other element in column c\n",
    "            \n",
    "Step 4: return the last column of Ab\n",
    "\n",
    "### Remark：\n",
    "We don't use the standard algorithm first transfering Ab to row echelon form and then to reduced row echelon form.  Instead, we arrives directly at reduced row echelon form. If you are familiar with the stardard way, try prove to yourself that they are equivalent. "
   ]
  },
  {
   "cell_type": "code",
   "execution_count": 172,
   "metadata": {
    "collapsed": false,
    "deletable": true,
    "editable": true
   },
   "outputs": [],
   "source": [
    "#TODO implement gaussian jordan method to solve Ax = b\n",
    "\n",
    "\"\"\" Gauss-jordan method to solve x such that Ax = b.\n",
    "        A: square matrix, list of lists\n",
    "        b: column vector, list of lists\n",
    "        decPts: degree of rounding, default value 4\n",
    "        epsilon: threshold for zero, default value 1.0e-16\n",
    "        \n",
    "    return x such that Ax = b, list of lists \n",
    "    return None if A and b have same height\n",
    "    return None if A is (almost) singular\n",
    "\"\"\"\n",
    "\n",
    "\n",
    "def gj_Solve(A, b, decPts=4, epsilon = 1.0e-16):\n",
    "    if len(A) != len(b):\n",
    "        return None\n",
    "    \n",
    "    Ab = augmentMatrix(A, b)\n",
    "    max_abs = 0\n",
    "    index = 0\n",
    "    row, col = shape(Ab)\n",
    "    temp = []\n",
    "    for i in range(col - 1):\n",
    "        max_abs = 0\n",
    "        j = i \n",
    "        while j < row:       \n",
    "            if abs(Ab[j][i]) > max_abs:\n",
    "                max_abs = abs(Ab[j][i])\n",
    "                temp = j   #record the position of max value\n",
    "            j += 1      \n",
    "        if max_abs < epsilon:\n",
    "            return None        #since A is singular matrix\n",
    "        else:\n",
    "            swapRows(Ab, temp, i)\n",
    "            scaleRow(Ab, i, 1./Ab[i][i])\n",
    "            k = 0\n",
    "            while True:\n",
    "                if k == i:\n",
    "                    k += 1\n",
    "                    continue\n",
    "                if k >= row:\n",
    "                    break\n",
    "                scale = Ab[k][i] * -1\n",
    "                addScaledRow(Ab, k, i, scale)\n",
    "                k += 1\n",
    "    lastcol = []\n",
    "    for n in range(row):\n",
    "        lastcol.append([Ab[n][col - 1]])\n",
    "    return lastcol\n",
    "        \n",
    "\n"
   ]
  },
  {
   "cell_type": "markdown",
   "metadata": {
    "collapsed": true,
    "deletable": true,
    "editable": true
   },
   "source": [
    "## 2.4 Prove the following proposition:\n",
    "\n",
    "**If square matrix A can be divided into four parts: ** \n",
    "\n",
    "$ A = \\begin{bmatrix}\n",
    "    I    & X \\\\\n",
    "    Z    & Y \\\\\n",
    "\\end{bmatrix} $, where I is the identity matrix, Z is all zero and the first column of Y is all zero, \n",
    "\n",
    "**then A is singular.**\n",
    "\n",
    "Hint: There are mutiple ways to prove this problem.  \n",
    "- consider the rank of Y and A\n",
    "- consider the determinate of Y and A \n",
    "- consider certain column is the linear combination of other columns"
   ]
  },
  {
   "cell_type": "markdown",
   "metadata": {
    "collapsed": true,
    "deletable": true,
    "editable": true
   },
   "source": [
    "TODO Please use latex （refering to the latex in problem may help）\n",
    "\n",
    "TODO Proof：\n",
    "\n",
    "First, we will try to compute the determiant of A as following.\n",
    "\n",
    "A general determinant for a matrix A has a value: \n",
    "$$\\det(A) = \\sum_{1}^{k}a_{ij}c_{ij}$$\n",
    "\n",
    "Thus, we will expand along the first column. Since I is indentity matrix, the first element of this matrix will not be zero. Also, since Z is all zero, we know that all value of first colunm of matrix A will be zero except the first element. That is:\n",
    "\n",
    "\\begin{aligned}{\\begin{vmatrix}\n",
    "P_{11} & p_{12} & \\ldots\n",
    "& p_{1k} \\\\\n",
    "p_{21} & p_{22} & \\ldots\n",
    "& p_{2k} \\\\\n",
    "\\vdots & \\vdots & \\ddots\n",
    "& \\vdots \\\\\n",
    "p_{k1} & p_{k2} & \\ldots\n",
    "& p_{kk}\n",
    "\\end{vmatrix}}&=p_{11}{\\begin{vmatrix}\n",
    "p_{22} & p_{23} & \\ldots\n",
    "& p_{2k} \\\\\n",
    "p_{32} & p_{33} & \\ldots\n",
    "& p_{3k} \\\\\n",
    "\\vdots & \\vdots & \\ddots\n",
    "& \\vdots \\\\\n",
    "p_{k2} & p_{k3} & \\ldots\n",
    "& p_{kk}\n",
    "\\end{vmatrix}}\\end{aligned}\n",
    "\n",
    "Again, since I is identity matrix, all leading ones are on the diagonal. if we continue to expland along the first column to calculate the determinant, we should expect the following expression:\n",
    "\n",
    "Assume matrix I has m rows and n columns.\n",
    "\n",
    "$$\n",
    "\\det(A) = p_{11}p_{22}...p_{mn}\\begin{aligned}{\\begin{vmatrix}\n",
    "P_{(m+1)(n+1)} & p_{(m+1)(n+2)} & \\ldots\n",
    "& p_{(m+1)k} \\\\\n",
    "p_{(m+2)(n+1)} & p_{(m+2)(n+2)} & \\ldots\n",
    "& p_{(m+2)k} \\\\\n",
    "\\vdots & \\vdots & \\ddots\n",
    "& \\vdots \\\\\n",
    "p_{k(n+1)} & p_{k(n+2)} & \\ldots\n",
    "& p_{kk}\n",
    "\\end{vmatrix}}\\end{aligned}\n",
    "$$\n",
    "\n",
    "By given informationm, we know that the first column of matrix Y is all zero, then if we expland the expression along the first column, we expect to get the final result as zero.\n",
    "\n",
    "That's:\n",
    "$$\n",
    "\\det(A) = p_{11}p_{22}...p_{mn}\\times 0 = 0\n",
    "$$\n",
    "\n",
    "Hence, matrix A is non-invertible and since it is square matrix, we prove that it is a singular matrix."
   ]
  },
  {
   "cell_type": "markdown",
   "metadata": {
    "deletable": true,
    "editable": true
   },
   "source": [
    "## 2.5 Test your gj_Solve() implementation"
   ]
  },
  {
   "cell_type": "code",
   "execution_count": 186,
   "metadata": {
    "collapsed": false,
    "deletable": true,
    "editable": true
   },
   "outputs": [
    {
     "name": "stdout",
     "output_type": "stream",
     "text": [
      "Pass the test for singular matrix\n",
      "Pass the test for non-singular matrix\n"
     ]
    }
   ],
   "source": [
    "# construct A and b where A is singular\n",
    "# construct A and b where A is not singular\n",
    "# solve x for  Ax = b \n",
    "# compute Ax\n",
    "# compare Ax and b\n",
    "\n",
    "# TODO\n",
    "\n",
    "A1 = [[0,4,5],[0,5,6],[0,8,9]] #singular case\n",
    "b = [[1],[2],[3]]\n",
    "\n",
    "def test1():\n",
    "    assert gj_Solve(A1, b) == None\n",
    "print \"Pass the test for singular matrix\"\n",
    "\n",
    "##################################################\n",
    "\n",
    "\n",
    "\n",
    "\n",
    "\n",
    "\n",
    "A2 = [[ 8, -8,  6],  #test non-invertible matrix\n",
    "      [ 5, -5, -8],\n",
    "      [-8, -3,  5]]\n",
    "b2 = [[0],[1],[2]]\n",
    "\n",
    "\n",
    "x = gj_Solve(A2, b2)\n",
    "\n",
    "A2 = [[ 8, -8,  6],  #since A2 is mutated as augmented matrix, to test the case, we need to change it back\n",
    "      [ 5, -5, -8],\n",
    "      [-8, -3,  5]]\n",
    "\n",
    "#print b2\n",
    "product = matxMultiply(A2, x)  #the printed result is reasonablly close to b2\n",
    "#print product\n",
    "\n",
    "\n",
    "'''lets further investigate the true difference between b2 and product'''\n",
    "diff = 0\n",
    "for i in range(3):\n",
    "    diff += (product[i][0] - b2[i][0])**2\n",
    "if diff < 0.1:\n",
    "    print \"Pass the test for non-singular matrix\"\n",
    "else:\n",
    "    print \"Fail the test\"\n",
    "\n",
    "\n",
    "test1()\n"
   ]
  },
  {
   "cell_type": "markdown",
   "metadata": {
    "deletable": true,
    "editable": true
   },
   "source": [
    "# 3 Linear Regression: \n",
    "\n",
    "## 3.1 Compute the gradient of loss function with respect to parameters \n",
    "## (Choose one between two 3.1 questions)\n",
    "\n",
    "\n",
    "\n",
    "We define loss funtion E as \n",
    "$$\n",
    "E(m, b) = \\sum_{i=1}^{n}{(y_i - mx_i - b)^2}\n",
    "$$\n",
    "\n",
    "Proves that \n",
    "$$\n",
    "\\frac{\\partial E}{\\partial m} = \\sum_{i=1}^{n}{-2x_i(y_i - mx_i - b)}\n",
    "$$\n",
    "\n",
    "$$\n",
    "\\frac{\\partial E}{\\partial b} = \\sum_{i=1}^{n}{-2(y_i - mx_i - b)}\n",
    "$$\n",
    "\n",
    "$$\n",
    "\\begin{bmatrix}\n",
    "    \\frac{\\partial E}{\\partial m} \\\\\n",
    "    \\frac{\\partial E}{\\partial b} \n",
    "\\end{bmatrix} = 2X^TXh - 2X^TY\n",
    "$$\n",
    "\n",
    "$$ \n",
    "\\text{, where }\n",
    "Y =  \\begin{bmatrix}\n",
    "    y_1 \\\\\n",
    "    y_2 \\\\\n",
    "    ... \\\\\n",
    "    y_n\n",
    "\\end{bmatrix}\n",
    ",\n",
    "X =  \\begin{bmatrix}\n",
    "    x_1 & 1 \\\\\n",
    "    x_2 & 1\\\\\n",
    "    ... & ...\\\\\n",
    "    x_n & 1 \\\\\n",
    "\\end{bmatrix},\n",
    "h =  \\begin{bmatrix}\n",
    "    m \\\\\n",
    "    b \\\\\n",
    "\\end{bmatrix}\n",
    "$$"
   ]
  },
  {
   "cell_type": "markdown",
   "metadata": {
    "deletable": true,
    "editable": true
   },
   "source": [
    "## 3.1 Compute the gradient of loss function with respect to parameters \n",
    "## (Choose one between two 3.1 questions)\n",
    "\n",
    "Proves that \n",
    "$$\n",
    "E = Y^TY -2(Xh)^TY + (Xh)^TXh\n",
    "$$\n",
    "\n",
    "$$\n",
    "\\frac{\\partial E}{\\partial h} = 2X^TXh - 2X^TY\n",
    "$$\n",
    "\n",
    "$$ \n",
    "\\text{,where }\n",
    "Y =  \\begin{bmatrix}\n",
    "    y_1 \\\\\n",
    "    y_2 \\\\\n",
    "    ... \\\\\n",
    "    y_n\n",
    "\\end{bmatrix}\n",
    ",\n",
    "X =  \\begin{bmatrix}\n",
    "    x_1 & 1 \\\\\n",
    "    x_2 & 1\\\\\n",
    "    ... & ...\\\\\n",
    "    x_n & 1 \\\\\n",
    "\\end{bmatrix},\n",
    "h =  \\begin{bmatrix}\n",
    "    m \\\\\n",
    "    b \\\\\n",
    "\\end{bmatrix}\n",
    "$$"
   ]
  },
  {
   "cell_type": "markdown",
   "metadata": {
    "deletable": true,
    "editable": true
   },
   "source": [
    "TODO Please use latex （refering to the latex in problem may help）\n",
    "\n",
    "TODO Proof：\n",
    "\n",
    "I choose to prove the first statement as following.\n",
    "\n",
    "Right Hand Side:\n",
    "\n",
    "\n",
    "\n",
    "$$\n",
    "\\text{Since }X =  \\begin{bmatrix}\n",
    "    x_1 & 1 \\\\\n",
    "    x_2 & 1\\\\\n",
    "    ... & ...\\\\\n",
    "    x_n & 1 \\\\\n",
    "\\end{bmatrix}\\text{, we know } X^{T} = \\begin{bmatrix}\n",
    "    x_1 & ... & x_n \\\\\n",
    "    1 & ... &1\n",
    "\\end{bmatrix}\n",
    "$$\n",
    "\n",
    "$$\n",
    "X_{T}Y = \\begin{bmatrix}\n",
    "    x_1^2 + ... x_n^2 \\\\\n",
    "    y_1 + ... + y_n\n",
    "\\end{bmatrix}\n",
    "$$\n",
    "\n",
    "$$\n",
    "X^TX = \\begin{bmatrix}\n",
    "    x_1y_1 + ... x_ny_n & x_1 + ... + x_n \\\\\n",
    "    m(x_1 + ... + x_n) & n\n",
    "\\end{bmatrix}\n",
    "$$\n",
    "\n",
    "Thus, we compute the RHS as:\n",
    "\n",
    "$$\n",
    "\\text{RHS = 2}\\begin{bmatrix}\n",
    "    m(x_1^2 + ... + x_n^2) + (x_1+ ... +x_n)b - (x_1y_1 + ... x_ny_n) \\\\\n",
    "    m(x_1 + ... + x_n) +nb -(y_1 + ... y_n)\n",
    "\\end{bmatrix}\n",
    "$$\n",
    "Left Hand Side:\n",
    "\n",
    "By partial derivative rule with respect to m and b, we know\n",
    "\n",
    "$$\n",
    "\\frac{\\partial E}{\\partial m} = \\sum_{i=1}^{n}{-2x_i(y_i - mx_i - b)} = 2m(x_1^2 + ... + x_n^2) + 2(x_1+ ... +x_n)b - 2(x_1y_1 + ... x_ny_n)\n",
    "$$\n",
    "\n",
    "$$\n",
    "\\frac{\\partial E}{\\partial b} = \\sum_{i=1}^{n}{-2(y_i - mx_i - b)} = 2m(x_1 + ... + x_n) +2nb -2(y_1 + ... y_n)\n",
    "$$\n",
    "\n",
    "Hence\n",
    "$$\n",
    "\\begin{bmatrix}\n",
    "    \\frac{\\partial E}{\\partial m} \\\\\n",
    "    \\frac{\\partial E}{\\partial b} \n",
    "\\end{bmatrix} = 2X^TXh - 2X^TY\n",
    "$$"
   ]
  },
  {
   "cell_type": "markdown",
   "metadata": {
    "deletable": true,
    "editable": true
   },
   "source": [
    "## 3.2  Linear Regression\n",
    "### Solve equation $X^TXh = X^TY $ to compute the best parameter for linear regression."
   ]
  },
  {
   "cell_type": "code",
   "execution_count": 223,
   "metadata": {
    "collapsed": false,
    "deletable": true,
    "editable": true
   },
   "outputs": [],
   "source": [
    "#TODO implement linear regression \n",
    "'''\n",
    "points: list of (x,y) tuple\n",
    "return m and b\n",
    "'''\n",
    "def linearRegression(points):\n",
    "    x_t = transpose(points[0])\n",
    "    product = matxMultiply(x_t, points[0])\n",
    "    rhs = matxMultiply(x_t, points[1])\n",
    "    h = gj_Solve(product, rhs)\n",
    "    print h\n",
    "    m = h[0][0]\n",
    "    b = h[1][0]\n",
    "    return m, b\n",
    "\n"
   ]
  },
  {
   "cell_type": "markdown",
   "metadata": {
    "deletable": true,
    "editable": true
   },
   "source": [
    "## 3.3 Test your linear regression implementation"
   ]
  },
  {
   "cell_type": "code",
   "execution_count": 227,
   "metadata": {
    "collapsed": false,
    "deletable": true,
    "editable": true
   },
   "outputs": [],
   "source": [
    "#TODO Construct the linear function\n",
    "import random\n",
    "\n",
    "def linear_fun(x):\n",
    "    y = 2 * x + 1\n",
    "    return y\n",
    "\n",
    "#TODO Construct points with gaussian noise\n",
    "\n",
    "matrix = []\n",
    "x = random.gauss(0, 4) #construct x-value with gaussian noise\n",
    "y = linear_fun(x) \n",
    "tuple = ([[x]],[[y]])      \n",
    "\n",
    "#TODO Compute m and b and compare with ground truth\n",
    "\n",
    "\n"
   ]
  },
  {
   "cell_type": "markdown",
   "metadata": {
    "deletable": true,
    "editable": true
   },
   "source": [
    "## 4.1 Unittests\n",
    "\n",
    "Please make sure yout implementation passed all the unittests"
   ]
  },
  {
   "cell_type": "code",
   "execution_count": 229,
   "metadata": {
    "collapsed": false,
    "deletable": true,
    "editable": true
   },
   "outputs": [
    {
     "name": "stderr",
     "output_type": "stream",
     "text": [
      "test_addScaleRow (__main__.LinearRegressionTestCase) ... ok\n",
      "test_augmentMatrix (__main__.LinearRegressionTestCase) ... ok\n",
      "test_gj_Solve (__main__.LinearRegressionTestCase) ... ok\n",
      "test_matxMultiply (__main__.LinearRegressionTestCase) ... ok\n",
      "test_matxRound (__main__.LinearRegressionTestCase) ... ok\n",
      "test_scaleRow (__main__.LinearRegressionTestCase) ... ok\n",
      "test_shape (__main__.LinearRegressionTestCase) ... ok\n",
      "test_swapRows (__main__.LinearRegressionTestCase) ... ok\n",
      "test_transpose (__main__.LinearRegressionTestCase) ... ok\n",
      "\n",
      "----------------------------------------------------------------------\n",
      "Ran 9 tests in 0.065s\n",
      "\n",
      "OK\n"
     ]
    },
    {
     "data": {
      "text/plain": [
       "<unittest.runner.TextTestResult run=9 errors=0 failures=0>"
      ]
     },
     "execution_count": 229,
     "metadata": {},
     "output_type": "execute_result"
    }
   ],
   "source": [
    "import unittest\n",
    "import numpy as np\n",
    "\n",
    "from decimal import *\n",
    "\n",
    "class LinearRegressionTestCase(unittest.TestCase):\n",
    "    \"\"\"Test for linear regression project\"\"\"\n",
    "\n",
    "    def test_shape(self):\n",
    "\n",
    "        for _ in range(10):\n",
    "            r,c = np.random.randint(low=1,high=25,size=2)\n",
    "            matrix = np.random.randint(low=-10,high=10,size=(r,c))\n",
    "            self.assertEqual(shape(matrix.tolist()),(r,c))\n",
    "\n",
    "\n",
    "    def test_matxRound(self):\n",
    "\n",
    "        for decpts in range(10):\n",
    "            r,c = np.random.randint(low=1,high=25,size=2)\n",
    "            matrix = np.random.random((r,c))\n",
    "\n",
    "            mat = matrix.tolist()\n",
    "            dec_true = [[Decimal(str(round(num,decpts))) for num in row] for row in mat]\n",
    "\n",
    "            matxRound(mat,decpts)\n",
    "            dec_test = [[Decimal(str(num)) for num in row] for row in mat]\n",
    "\n",
    "            res = Decimal('0')\n",
    "            for i in range(len(mat)):\n",
    "                for j in range(len(mat[0])):\n",
    "                    res += dec_test[i][j].compare_total(dec_true[i][j])\n",
    "\n",
    "            self.assertEqual(res,Decimal('0'))\n",
    "\n",
    "\n",
    "    def test_transpose(self):\n",
    "        for _ in range(10):\n",
    "            r,c = np.random.randint(low=1,high=25,size=2)\n",
    "            matrix = np.random.random((r,c))\n",
    "\n",
    "            mat = matrix.tolist()\n",
    "            t = np.array(transpose(mat))\n",
    "\n",
    "            self.assertEqual(t.shape,(c,r))\n",
    "            self.assertTrue((matrix.T == t).all())\n",
    "\n",
    "\n",
    "    def test_matxMultiply(self):\n",
    "\n",
    "        for _ in range(10):\n",
    "            r,d,c = np.random.randint(low=1,high=25,size=3)\n",
    "            mat1 = np.random.randint(low=-10,high=10,size=(r,d)) \n",
    "            mat2 = np.random.randint(low=-5,high=5,size=(d,c)) \n",
    "            dotProduct = np.dot(mat1,mat2)\n",
    "\n",
    "            dp = np.array(matxMultiply(mat1,mat2))\n",
    "\n",
    "            self.assertTrue((dotProduct == dp).all())\n",
    "\n",
    "\n",
    "    def test_augmentMatrix(self):\n",
    "\n",
    "        for _ in range(10):\n",
    "            r,c = np.random.randint(low=1,high=25,size=2)\n",
    "            A = np.random.randint(low=-10,high=10,size=(r,c))\n",
    "            b = np.random.randint(low=-10,high=10,size=(r,1))\n",
    "\n",
    "            Ab = np.array(augmentMatrix(A.tolist(),b.tolist()))\n",
    "            ab = np.hstack((A,b))\n",
    "\n",
    "            self.assertTrue((Ab == ab).all())\n",
    "\n",
    "    def test_swapRows(self):\n",
    "        for _ in range(10):\n",
    "            r,c = np.random.randint(low=1,high=25,size=2)\n",
    "            matrix = np.random.random((r,c))\n",
    "\n",
    "            mat = matrix.tolist()\n",
    "\n",
    "            r1, r2 = np.random.randint(0,r, size = 2)\n",
    "            swapRows(mat,r1,r2)\n",
    "\n",
    "            matrix[[r1,r2]] = matrix[[r2,r1]]\n",
    "\n",
    "            self.assertTrue((matrix == np.array(mat)).all())\n",
    "\n",
    "    def test_scaleRow(self):\n",
    "\n",
    "        for _ in range(10):\n",
    "            r,c = np.random.randint(low=1,high=25,size=2)\n",
    "            matrix = np.random.random((r,c))\n",
    "\n",
    "            mat = matrix.tolist()\n",
    "\n",
    "            rr = np.random.randint(0,r)\n",
    "            with self.assertRaises(ValueError):\n",
    "                scaleRow(mat,rr,0)\n",
    "\n",
    "            scale = np.random.randint(low=1,high=10)\n",
    "            scaleRow(mat,rr,scale)\n",
    "            matrix[rr] *= scale\n",
    "\n",
    "            self.assertTrue((matrix == np.array(mat)).all())\n",
    "    \n",
    "    def test_addScaleRow(self):\n",
    "\n",
    "        for _ in range(10):\n",
    "            r,c = np.random.randint(low=1,high=25,size=2)\n",
    "            matrix = np.random.random((r,c))\n",
    "\n",
    "            mat = matrix.tolist()\n",
    "\n",
    "            r1,r2 = np.random.randint(0,r,size=2)\n",
    "\n",
    "            scale = np.random.randint(low=1,high=10)\n",
    "            addScaledRow(mat,r1,r2,scale)\n",
    "            matrix[r1] += scale * matrix[r2]\n",
    "\n",
    "            self.assertTrue((matrix == np.array(mat)).all())\n",
    "\n",
    "\n",
    "    def test_gj_Solve(self):\n",
    "\n",
    "        for _ in range(10):\n",
    "            r = np.random.randint(low=3,high=10)\n",
    "            A = np.random.randint(low=-10,high=10,size=(r,r))\n",
    "            b = np.arange(r).reshape((r,1))\n",
    "      \n",
    "            x = gj_Solve(A.tolist(),b.tolist())\n",
    "\n",
    "            if np.linalg.matrix_rank(A) < r:\n",
    "                self.assertEqual(x,None)\n",
    "            else:\n",
    "                Ax = np.dot(A,np.array(x))\n",
    "                \n",
    "                \n",
    "                loss = np.mean((Ax - b)**2)\n",
    "\n",
    "                self.assertTrue(loss<0.1)\n",
    "\n",
    "                \n",
    "suite = unittest.TestLoader().loadTestsFromTestCase(LinearRegressionTestCase)\n",
    "unittest.TextTestRunner(verbosity=3).run(suite)\n",
    "\n"
   ]
  },
  {
   "cell_type": "code",
   "execution_count": null,
   "metadata": {
    "collapsed": true,
    "deletable": true,
    "editable": true
   },
   "outputs": [],
   "source": []
  },
  {
   "cell_type": "code",
   "execution_count": null,
   "metadata": {
    "collapsed": true,
    "deletable": true,
    "editable": true
   },
   "outputs": [],
   "source": []
  },
  {
   "cell_type": "code",
   "execution_count": null,
   "metadata": {
    "collapsed": true,
    "deletable": true,
    "editable": true
   },
   "outputs": [],
   "source": []
  },
  {
   "cell_type": "code",
   "execution_count": null,
   "metadata": {
    "collapsed": true,
    "deletable": true,
    "editable": true
   },
   "outputs": [],
   "source": []
  },
  {
   "cell_type": "code",
   "execution_count": null,
   "metadata": {
    "collapsed": true,
    "deletable": true,
    "editable": true
   },
   "outputs": [],
   "source": []
  }
 ],
 "metadata": {
  "anaconda-cloud": {},
  "celltoolbar": "Raw Cell Format",
  "kernelspec": {
   "display_name": "Python 2",
   "language": "python",
   "name": "python2"
  },
  "language_info": {
   "codemirror_mode": {
    "name": "ipython",
    "version": 2
   },
   "file_extension": ".py",
   "mimetype": "text/x-python",
   "name": "python",
   "nbconvert_exporter": "python",
   "pygments_lexer": "ipython2",
   "version": "2.7.13"
  }
 },
 "nbformat": 4,
 "nbformat_minor": 2
}
